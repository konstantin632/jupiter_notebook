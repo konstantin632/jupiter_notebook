{
 "cells": [
  {
   "cell_type": "markdown",
   "id": "1b94e208",
   "metadata": {},
   "source": [
    "# Задание 1\n"
   ]
  },
  {
   "cell_type": "code",
   "execution_count": 1,
   "id": "1748f354",
   "metadata": {},
   "outputs": [],
   "source": [
    "import numpy as np"
   ]
  },
  {
   "cell_type": "code",
   "execution_count": 2,
   "id": "dcbf398d",
   "metadata": {},
   "outputs": [],
   "source": [
    "a=np.array([[1,6],\n",
    "            [2,8],\n",
    "            [3,11],\n",
    "            [3,10],\n",
    "            [1,7]])"
   ]
  },
  {
   "cell_type": "code",
   "execution_count": 3,
   "id": "7e47a42d",
   "metadata": {},
   "outputs": [
    {
     "data": {
      "text/plain": [
       "array([[ 1,  6],\n",
       "       [ 2,  8],\n",
       "       [ 3, 11],\n",
       "       [ 3, 10],\n",
       "       [ 1,  7]])"
      ]
     },
     "execution_count": 3,
     "metadata": {},
     "output_type": "execute_result"
    }
   ],
   "source": [
    "a"
   ]
  },
  {
   "cell_type": "code",
   "execution_count": 9,
   "id": "15a91ebc",
   "metadata": {},
   "outputs": [
    {
     "data": {
      "text/plain": [
       "(5, 2)"
      ]
     },
     "execution_count": 9,
     "metadata": {},
     "output_type": "execute_result"
    }
   ],
   "source": [
    "a.shape"
   ]
  },
  {
   "cell_type": "code",
   "execution_count": 7,
   "id": "ab8234ee",
   "metadata": {},
   "outputs": [],
   "source": [
    "mean_a=a.mean(axis=0)"
   ]
  },
  {
   "cell_type": "code",
   "execution_count": 8,
   "id": "d5677622",
   "metadata": {},
   "outputs": [
    {
     "data": {
      "text/plain": [
       "array([2. , 8.4])"
      ]
     },
     "execution_count": 8,
     "metadata": {},
     "output_type": "execute_result"
    }
   ],
   "source": [
    "mean_a"
   ]
  },
  {
   "cell_type": "markdown",
   "id": "17848cbe",
   "metadata": {},
   "source": [
    "# Задание 2"
   ]
  },
  {
   "cell_type": "code",
   "execution_count": 33,
   "id": "cb6fd601",
   "metadata": {},
   "outputs": [],
   "source": [
    "a_centered=a-mean_a"
   ]
  },
  {
   "cell_type": "code",
   "execution_count": 34,
   "id": "8ad682c2",
   "metadata": {},
   "outputs": [
    {
     "data": {
      "text/plain": [
       "5"
      ]
     },
     "execution_count": 34,
     "metadata": {},
     "output_type": "execute_result"
    }
   ],
   "source": [
    "a_centered.shape[0]"
   ]
  },
  {
   "cell_type": "code",
   "execution_count": 51,
   "id": "7398e804",
   "metadata": {},
   "outputs": [
    {
     "data": {
      "text/plain": [
       "array([[-1. , -2.4],\n",
       "       [ 0. , -0.4],\n",
       "       [ 1. ,  2.6],\n",
       "       [ 1. ,  1.6],\n",
       "       [-1. , -1.4]])"
      ]
     },
     "execution_count": 51,
     "metadata": {},
     "output_type": "execute_result"
    }
   ],
   "source": [
    "a_centered"
   ]
  },
  {
   "cell_type": "markdown",
   "id": "00d687d1",
   "metadata": {},
   "source": [
    "# Задание 3"
   ]
  },
  {
   "cell_type": "code",
   "execution_count": 43,
   "id": "b861deef",
   "metadata": {},
   "outputs": [],
   "source": [
    "a_centered_sp=np.dot(a_centered[:,0],a_centered[:,1])"
   ]
  },
  {
   "cell_type": "code",
   "execution_count": 44,
   "id": "7bbfeee8",
   "metadata": {},
   "outputs": [
    {
     "data": {
      "text/plain": [
       "8.0"
      ]
     },
     "execution_count": 44,
     "metadata": {},
     "output_type": "execute_result"
    }
   ],
   "source": [
    "a_centered_sp"
   ]
  },
  {
   "cell_type": "code",
   "execution_count": 45,
   "id": "bc1f7b11",
   "metadata": {},
   "outputs": [],
   "source": [
    "a_centered_cov=a_centered_sp/(a_centered.shape[0]-1)"
   ]
  },
  {
   "cell_type": "code",
   "execution_count": 46,
   "id": "22d37de1",
   "metadata": {},
   "outputs": [
    {
     "data": {
      "text/plain": [
       "2.0"
      ]
     },
     "execution_count": 46,
     "metadata": {},
     "output_type": "execute_result"
    }
   ],
   "source": [
    "a_centered_cov"
   ]
  },
  {
   "cell_type": "markdown",
   "id": "6be505aa",
   "metadata": {},
   "source": [
    "# Задание 4"
   ]
  },
  {
   "cell_type": "code",
   "execution_count": 47,
   "id": "c42f85f4",
   "metadata": {},
   "outputs": [],
   "source": [
    "a_centered_cov=np.cov(a.T)"
   ]
  },
  {
   "cell_type": "code",
   "execution_count": 48,
   "id": "4d9a5c25",
   "metadata": {},
   "outputs": [
    {
     "data": {
      "text/plain": [
       "array([[1. , 2. ],\n",
       "       [2. , 4.3]])"
      ]
     },
     "execution_count": 48,
     "metadata": {},
     "output_type": "execute_result"
    }
   ],
   "source": [
    "a_centered_cov"
   ]
  },
  {
   "cell_type": "code",
   "execution_count": 49,
   "id": "49b735d7",
   "metadata": {},
   "outputs": [
    {
     "data": {
      "text/plain": [
       "2.0"
      ]
     },
     "execution_count": 49,
     "metadata": {},
     "output_type": "execute_result"
    }
   ],
   "source": [
    "a_centered_cov[0][1]"
   ]
  },
  {
   "cell_type": "code",
   "execution_count": null,
   "id": "84537bb7",
   "metadata": {},
   "outputs": [],
   "source": []
  }
 ],
 "metadata": {
  "kernelspec": {
   "display_name": "Python 3 (ipykernel)",
   "language": "python",
   "name": "python3"
  },
  "language_info": {
   "codemirror_mode": {
    "name": "ipython",
    "version": 3
   },
   "file_extension": ".py",
   "mimetype": "text/x-python",
   "name": "python",
   "nbconvert_exporter": "python",
   "pygments_lexer": "ipython3",
   "version": "3.9.12"
  }
 },
 "nbformat": 4,
 "nbformat_minor": 5
}
